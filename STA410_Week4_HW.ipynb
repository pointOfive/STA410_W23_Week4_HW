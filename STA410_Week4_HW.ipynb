{
 "cells": [
  {
   "cell_type": "markdown",
   "id": "c3aa0add",
   "metadata": {},
   "source": [
    "# STA410 Week 4 Programming Assignment (10 points)\n",
    "\n",
    "Welcome.\n",
    "\n",
    "## Rules\n",
    "\n",
    "\n",
    "0. **This is a paired or individual assignment.** Specific code solutions submitted for these assignments must be created either individually or in the context of a paired effort: ***group efforts of three or more are students are not allowed.*** Please seek homework partners in-person or on the course discussion board on piazza. **Paired students each separately submit their (common) work, including (agreeing) contribution of work statements for each problem.**\n",
    "  \n",
    "   > Students choosing to work individually must work in accordance with the [University Student Academic Integrity values](https://www.artsci.utoronto.ca/current/academic-advising-and-support/student-academic-integrity)  of \"honesty, trust, fairness, respect, responsibility and courage.\" Students working in pairs may share work without restriction within their pair, but must otherwise work in accordance with the [University Student Academic Integrity values](https://www.artsci.utoronto.ca/current/academic-advising-and-support/student-academic-integrity) noted above. ***Getting and sharing \"hints\" from other classmates is allowed; but, the eventual code creation work and submission must be your own individual or paired creation.***\n",
    "   \n",
    "   \n",
    "1. **Do not delete or replace cells**: this erases `cell ids` upon which automated code tests are based.\n",
    "\n",
    "    - ***If you accidentally delete a required cell*** try \"Edit > Undo Delete Cells\" in the notebook editor; otherwise, redownload the notebook (so it has the correct required `cells ids`) and repopulate it with your answers (assuming you don't overwrite them when you redownload the notebook).\n",
    "\n",
    "   - ***You may add cells for scratch work*** but if required answers are not submitted through the provided cells where the answers are requested your answers may not be marked.\n",
    "\n",
    "  > You may check if `cell ids` are present and working by running the following command in a cell \n",
    "  >\n",
    "  > `! grep '\"id\":' <path/to/notebook>.ipynb`\n",
    "  >\n",
    "  > and making sure the `cell ids` **do not change** when you save your notebook.\n",
    "  >\n",
    "  >> ***If you are working in any environment other than*** [UofT JupyterLab](https://jupyter.utoronto.ca/hub/user-redirect/git-pull?repo=https://github.com/pointOfive/sta410hw0&branch=master&urlpath=/lab/tree/sta410hw0), [UofT JupyterHub](https://jupyter.utoronto.ca/hub/user-redirect/git-pull?repo=https://github.com/pointOfive/sta410hw0&branch=master), or [Google Colab](https://colab.research.google.com/github/pointOfive/sta410hw0/blob/master/sta410hw0.ipynb), your system must meet the following versioning requirements \n",
    "   >>\n",
    "   >>   - [notebook format >=4.5](https://github.com/jupyterlab/jupyterlab/issues/9729) \n",
    "   >>   - jupyter [notebook](https://jupyter.org/install#jupyter-notebook) version [>=6.2](https://jupyter-notebook.readthedocs.io/en/stable/) for \"classic\" notebooks served by [jupyterhub](https://jupyterhub.readthedocs.io/en/stable/quickstart.html)\n",
    "   >>   - [jupyterlab](https://jupyter.org/install) version [>=3.0.13](https://github.com/jupyterlab/jupyterlab/releases/tag/v3.0.13) for \"jupyterlab\" notebooks  \n",
    "   >>    \n",
    "   >> otherwise `cell ids` will not be supported and you will not get any credit for your submitted homework.  \n",
    "      \n",
    "2. **No cells may have any runtime errors** because this causes subsequent automated code tests to fail and you will not get marks for tests which fail because of previous runtime errors. \n",
    "\n",
    "  - Run time errors include, e.g., unassigned variables, mismatched parentheses, and any code which does not work when the notebook cells are sequentially run, even if it was provided for you as part of the starter code. ***It is best to restart and re-run the cells in your notebook to ensure there are no runtime errors before submitting your work.***\n",
    "    \n",
    "  - The `try`-`except` block syntax catches runtime errors and transforms them into `exceptions` which will not cause subsequent automated code tests to fail.  \n",
    "\n",
    "\n",
    "3. **No jupyter shortcut commands** such as `! python script.py 10` or `%%timeit` may be included in the final submission as they will cause subsequent automated code tests to fail.\n",
    "\n",
    "  - ***Comment out ALL jupyter shortcut commands***, e.g., `# ! python script.py 10` or `# %%timeit` in submitted notebooks.\n",
    "\n",
    "\n",
    "4. **Python library imports are limited** to only libraries imported in the starter code and the [standard python modules](https://docs.python.org/3/py-modindex.html). Importing additional libraries will cause subsequent automated code tests to fail.\n",
    "\n",
    "  > Unless a problem instructs differently, you may use any functions available from the libraries imported in the starter code; otherwise, you are expected to create your own Python functionality based on the Python stdlib (standard libary, i.e., base Python and standard Python modules).\n",
    "\n",
    "\n",
    "5. You are welcome and encouraged to adapt code you find available online into your notebook; however, if you do so you must provide a link to the utilized resource. ***If failure to cite such references is identified and confirmed, your mark will be immediately reduced to 0.***  "
   ]
  },
  {
   "cell_type": "code",
   "execution_count": 5,
   "id": "2e256d28",
   "metadata": {
    "deletable": false,
    "editable": false
   },
   "outputs": [],
   "source": [
    "# Unless a problem instructs differently, you may use any functions available from the following library imports\n",
    "import numpy as np\n",
    "from scipy import stats\n",
    "import matplotlib.pyplot as plot\n",
    "from numpy.linalg import inv, solve, cholesky, svd, qr\n",
    "from scipy.linalg import solve_triangular\n",
    "import tensorflow as tf"
   ]
  },
  {
   "cell_type": "markdown",
   "id": "8d48de6e",
   "metadata": {},
   "source": [
    "# Problem 0 (required)\n",
    "\n",
    "Are you working with a partner to complete this assignment?  \n",
    "- If not, assign  the value of `None` into the variable `Partner`.\n",
    "- If so, assign the name of the person you worked with into the variable `Partner`.\n",
    "    - Format the name as `\"<First Name> <Last Name>\"` as a `str` type, e.g., \"Scott Schwartz\"."
   ]
  },
  {
   "cell_type": "code",
   "execution_count": null,
   "id": "cf78081a",
   "metadata": {
    "deletable": false
   },
   "outputs": [],
   "source": [
    "# Required: only worth points when not completed, in which case, you'll lose points\n",
    "Partner = #None\n",
    "# This cell will produce a runtime error until you assign a value to this variable"
   ]
  },
  {
   "cell_type": "markdown",
   "id": "d482b3e6",
   "metadata": {},
   "source": [
    "What was your contribution in completing the code for this assignments problems? Assign one of the following into each of the `Problem_X` variables below.\n",
    "\n",
    "- `\"I worked alone\"`\n",
    "- `\"I contributed more than my partner\"`\n",
    "- `\"My partner and I contributed equally\"`\n",
    "- `\"I contributed less than my partner\"`\n",
    "- `\"I did not contribute\"`"
   ]
  },
  {
   "cell_type": "code",
   "execution_count": null,
   "id": "6589b6a8",
   "metadata": {
    "deletable": false
   },
   "outputs": [],
   "source": [
    "# Required: only worth points when not completed, in which case, you'll lose points\n",
    "Problem_1 = #\"I worked alone\"\n",
    "Problem_2 = #\"I worked alone\"\n",
    "# This cell will produce a runtime error until you assign a value to this variable"
   ]
  },
  {
   "cell_type": "markdown",
   "id": "bd554360",
   "metadata": {},
   "source": [
    "# Problem 1 (5 points)\n",
    "\n",
    "This problem considers alternative computations and topics related to ***condition*** for the ***least squares*** model fit $\\hat \\beta$ for the $y=X_{n\\times p} \\beta + \\epsilon$ model."
   ]
  },
  {
   "cell_type": "markdown",
   "id": "77a34af9",
   "metadata": {
    "deletable": false
   },
   "source": [
    "## Problem 1 Question 0 (0.25 points)\n",
    "\n",
    "0. What is the ***condition*** of $X^TX$ when the following code is run?\n",
    "\n",
    "```python\n",
    "np.random.seed(10); n,p = 100,10; noise = n/2\n",
    "X = np.ones((n,p))*np.arange(n)[:,np.newaxis] + stats.norm.rvs(size=(n,p))*noise\n",
    "X = (X - X.mean(axis=0)[np.newaxis,:])/X.std(axis=0)[np.newaxis,:]\n",
    "X[:,0] = 1\n",
    "```\n",
    "\n",
    "***Hint:*** \n",
    "\n",
    "- There is a definition of ***condition***, but there's also a `numpy` that would be easiest here.\n",
    "- Indirectly relevant to this question are `plt.plot(X[:,j],X[:,k],'.')` and `np.round(np.corrcoef(X.T),2)`"
   ]
  },
  {
   "cell_type": "code",
   "execution_count": 309,
   "id": "d6b793ce",
   "metadata": {},
   "outputs": [
    {
     "data": {
      "text/plain": [
       "0.9999999999999994"
      ]
     },
     "execution_count": 309,
     "metadata": {},
     "output_type": "execute_result"
    }
   ],
   "source": [
    "# 0.25 points [format: just a plain number of type `float` or `np.float`]\n",
    "p1q0 = # condition of the gramian of X\n",
    "\n",
    "# This cell will produce a runtime error until the `p2q0` variable is assigned"
   ]
  },
  {
   "cell_type": "code",
   "execution_count": null,
   "id": "f068b5d0",
   "metadata": {},
   "outputs": [],
   "source": [
    "# Cell for scratch work\n",
    "\n",
    "# You are welcome to add as many new cells into this notebook as you would like.\n",
    "# Just do not leave in a state that will produce a runtime errors when notebook cells are run sequentially.\n",
    "\n",
    "# Any cells included for scratch work that are no longer needed may be deleted so long as \n",
    "# - all the required functions are still defined and available when called\n",
    "# - no cells requiring variable assignments are deleted.\n",
    "\n",
    "# None of this will not cause problems with `cell ids` assuming your versioning supports `cell ids`\n",
    "# (as UofT JupyterHub, UofT JupyterLab, an Google Colab will).\n"
   ]
  },
  {
   "cell_type": "code",
   "execution_count": null,
   "id": "fe0df5ad",
   "metadata": {},
   "outputs": [],
   "source": [
    "# Cell for scratch work"
   ]
  },
  {
   "cell_type": "markdown",
   "id": "6808583b",
   "metadata": {},
   "source": [
    "## Problem 1 Question 1 (0.25 points)\n",
    "\n",
    "1. What is the ***condition*** of $X^TX$ when the following code is run?\n",
    "\n",
    "```python\n",
    "np.random.seed(10); n,p = 100,10; noise = n/5\n",
    "X = np.ones((n,p))*np.arange(n)[:,np.newaxis] + stats.norm.rvs(size=(n,p))*noise\n",
    "X = (X - X.mean(axis=0)[np.newaxis,:])/X.std(axis=0)[np.newaxis,:]\n",
    "X[:,0] = 1\n",
    "```\n",
    "\n",
    "- There is a definition of ***condition***, but there's also a `numpy` that would be easiest here.\n",
    "- Indirectly relevant to this question are `plt.plot(X[:,j],X[:,k],'.')` and `np.round(np.corrcoef(X.T),2)`"
   ]
  },
  {
   "cell_type": "code",
   "execution_count": null,
   "id": "34f677e1",
   "metadata": {
    "deletable": false
   },
   "outputs": [],
   "source": [
    "# 0.25 points [format: just a plain number of type `float` or `np.float`]\n",
    "p1q1 = # condition of the gramian of X\n",
    "\n",
    "# This cell will produce a runtime error until the `p1q1` variable is assigned"
   ]
  },
  {
   "cell_type": "code",
   "execution_count": null,
   "id": "92e4352d",
   "metadata": {
    "deletable": false
   },
   "outputs": [],
   "source": [
    "# Cell for scratch work\n",
    "\n",
    "# You are welcome to add as many new cells into this notebook as you would like.\n",
    "# Just do not leave in a state that will produce a runtime errors when notebook cells are run sequentially.\n",
    "\n",
    "# Any cells included for scratch work that are no longer needed may be deleted so long as \n",
    "# - all the required functions are still defined and available when called\n",
    "# - no cells requiring variable assignments are deleted.\n",
    "\n",
    "# None of this will not cause problems with `cell ids` assuming your versioning supports `cell ids`\n",
    "# (as UofT JupyterHub, UofT JupyterLab, an Google Colab will).\n"
   ]
  },
  {
   "cell_type": "code",
   "execution_count": null,
   "id": "818ff721",
   "metadata": {},
   "outputs": [],
   "source": [
    "# Cell for scratch work"
   ]
  },
  {
   "cell_type": "markdown",
   "id": "bcf23bc5",
   "metadata": {},
   "source": [
    "## Problem 1 Question 2-6 (1.5 points)\n",
    "\n",
    "Using the imported `inv`, `solve`, `solve_triangular`, `cholesky`, `qr`, and `svd` functions, answer the following questions for `X` and `y` generated from the following code.\n",
    "\n",
    "```python\n",
    "np.random.seed(10); n,p = 100,10; noise,sigma = n/20,1\n",
    "X = np.ones((n,p))*np.arange(n)[:,np.newaxis] + stats.norm.rvs(size=(n,p))*noise\n",
    "X = (X - X.mean(axis=0)[np.newaxis,:])/X.std(axis=0)[np.newaxis,:]\n",
    "X[:,0] = 1; y = X@np.ones((p,1)) + stats.norm.rvs(size=(n,1))*sigma\n",
    "```\n",
    "\n",
    "2. (0.25 points) What is the least squares estimate for $\\hat \\beta$ in $\\hat y = X\\hat \\beta$ based on inverting $X^TX$?\n",
    "\n",
    "\n",
    "3. (0.25 points) What is the least squares estimate for $\\hat \\beta$ in $\\hat y = X\\hat \\beta$ based on solving for $\\hat \\beta$ in the ***normal equations***?\n",
    "\n",
    "\n",
    "4. (0.25 points) What is the least squares estimate for $\\hat \\beta$ in $\\hat y = X\\hat \\beta$ on the basis of the ***cholesky*** decomposition of $X^TX$ and solving two rounds of systems of linear equations?\n",
    "\n",
    "\n",
    "5. (0.25 points) What is the least squares estimate for $\\hat \\beta$ in $\\hat y = X\\hat \\beta$ on the basis of the ***QR*** decomposition of $X$?\n",
    "\n",
    "\n",
    "6. (0.5 points) What is the least squares estimate for $\\hat \\beta$ in $\\hat y = X\\hat \\beta$ on the basis of the ***SVD*** decomposition of $X$? \n",
    "\n",
    "\n",
    "When computing your answers, the following restrictions apply:\n",
    "\n",
    "- The order of operations impacts the final numerical results; so, you must use parentheses to ensure the order of operations corresponds exactly to the natural order of steps that would follow we constructing $\\hat \\beta$ with any of the above strategies.\n",
    "\n",
    "- You may not use `inv(np.diag(D))`; so, you must instead use the construct `np.arange(10)[np.newaxis,:]*np.ones((100,10))` for $DM$ a diagonal matrix $D$ times a rectangular matrix $M$.\n",
    "\n",
    "- You are not to use `np.linalg.lstsq(X,y,rcond=None)[0]` in place of the extracting `U,d,Vt` from the `svd` function and then computing the necessary matrix operations.\n",
    "\n",
    "***Hints:***\n",
    "\n",
    "- The following code can show the differences between the different computations of the least squares estimate.\n",
    "\n",
    "```python\n",
    "betahats_ascols = np.array([[betahat_inv, betahat_solve, betahat_cholesky, betahat_qr, betahat_svd]])\n",
    "betahats_asrows = np.array([[betahat_inv], \n",
    "                            [betahat_solve], \n",
    "                            [betahat_cholesky], \n",
    "                            [betahat_qr],\n",
    "                            [betahat_svd]])\n",
    "np.set_printoptions(linewidth=120)\n",
    "# Absolute differences in betahat estimates\n",
    "np.abs(betahats_ascols-betahats_asrows).sum(axis=2).sum(axis=2) # numpy broadcasting\n",
    "# Rounded beta hat estimates estimates\n",
    "np.round(np.c_[betahat_inv, betahat_solve, betahat_cholesky, betahat_qr, betahat_svd, betahat_svd2],5)\n",
    "```\n",
    "\n",
    "- Of relevance for the problem at hand is `np.round(np.corrcoef(X.T),2)` and the ***condition number*** of `X`."
   ]
  },
  {
   "cell_type": "code",
   "execution_count": null,
   "id": "81cd81ca",
   "metadata": {},
   "outputs": [],
   "source": [
    "# Cell for scratch work\n",
    "\n",
    "# You are welcome to add as many new cells into this notebook as you would like.\n",
    "# Just do not leave in a state that will produce a runtime errors when notebook cells are run sequentially.\n",
    "\n",
    "# Any cells included for scratch work that are no longer needed may be deleted so long as \n",
    "# - all the required functions are still defined and available when called\n",
    "# - no cells requiring variable assignments are deleted.\n",
    "\n",
    "# None of this will not cause problems with `cell ids` assuming your versioning supports `cell ids`\n",
    "# (as UofT JupyterHub, UofT JupyterLab, an Google Colab will).\n"
   ]
  },
  {
   "cell_type": "code",
   "execution_count": null,
   "id": "f108cdc9",
   "metadata": {},
   "outputs": [],
   "source": [
    "# Cell for scratch work"
   ]
  },
  {
   "cell_type": "code",
   "execution_count": null,
   "id": "7ee29d48",
   "metadata": {
    "deletable": false
   },
   "outputs": [],
   "source": [
    "# 0.25 points each [format: outputs of the appropriate functions calls and calculations]\n",
    "\n",
    "p1q2 = #inv(...\n",
    "p1q3 = #solve(...\n",
    "#L = cholesky(...\n",
    "p1q4 = #solve_triangular(...\n",
    "#Q,R = qr(\n",
    "p1q5 = #solve_triangular(...\n",
    "# Correct L and Q and R are needed for appropriate use of `solve_triangular`\n",
    "\n",
    "# This cell will produce a runtime error until the variables `p1q2` through `p1q5` are assigned values"
   ]
  },
  {
   "cell_type": "code",
   "execution_count": 344,
   "id": "846d199c",
   "metadata": {
    "deletable": false
   },
   "outputs": [],
   "source": [
    "# 0.5 point [format: outputs of the appropriate calculations]\n",
    "\n",
    "#U,D,Vt = svd(...\n",
    "p1q6 = #... \n",
    "\n",
    "# Correct U and D and Vt are needed for the subsequent calculations\n",
    "# This cell will produce a runtime error until the variable `p1q6` is assigned a value"
   ]
  },
  {
   "cell_type": "markdown",
   "id": "af62bf71",
   "metadata": {},
   "source": [
    "## Problem 1 Questions 7-8 (1 point)\n",
    "\n",
    "7. (0.5 points) Which of the following best describes the numerical difference between the methods above?\n",
    "\n",
    "    1. Numeric differences are meaningfully different for the `qr` and `svd` approaches compared to the methods based on `X.T@X`\n",
    "    2. Numeric differences are not meaningfully different for any of the methods relative to the multicollinearity/condition of `X` \n",
    "    3. Numeric differences are meaningfully different, with a worst to best numerical precision ranking of `inv`, `solve`, `cholesky`, `qr`, `svd`\n",
    "    4. Numeric differences are not meaningfully different because the condition number and ***variance inflation factors*** of `X` are not very large\n",
    "\n",
    "\n",
    "8. (0.5 points) What aboout this `X` makes it a poor choice for regression?\n",
    "\n",
    "    1. The correlations of the continuous predictors are all all too high $>0.95$\n",
    "    2. The correlations of the continuous predictors are all between $0.5$ and $0.95$\n",
    "    3. The correlations of the continuous predictors are all between $0.25$ and $0.5$\n",
    "    4. It's not actually a problem with the correlations of the continuous predictors\n",
    "    \n",
    "***Hint:*** the hints from questions 2-6 above would be helpful for answering these questions    "
   ]
  },
  {
   "cell_type": "code",
   "execution_count": null,
   "id": "daaf6337",
   "metadata": {
    "deletable": false
   },
   "outputs": [],
   "source": [
    "# 1 point (0.5 points each) [format: `str` either \"A\" or \"B\" or \"C\" or \"D\" based on the choices above]\n",
    "p1q7 = #<\"A\"|\"B\"|\"C\"|\"D\"> \n",
    "p1q8 = #<\"A\"|\"B\"|\"C\"|\"D\"> \n",
    "# Uncomment the above and keep only either \"A\" or \"B\" or \"C\" or \"D\"\n",
    "\n",
    "# This cell will produce a runtime error until the variables `p1q7` and `p1q8` are assigned values"
   ]
  },
  {
   "cell_type": "code",
   "execution_count": null,
   "id": "b75d1560",
   "metadata": {},
   "outputs": [],
   "source": [
    "# Cell for scratch work\n",
    "\n",
    "# You are welcome to add as many new cells into this notebook as you would like.\n",
    "# Just do not leave in a state that will produce a runtime errors when notebook cells are run sequentially.\n",
    "\n",
    "# Any cells included for scratch work that are no longer needed may be deleted so long as \n",
    "# - all the required functions are still defined and available when called\n",
    "# - no cells requiring variable assignments are deleted.\n",
    "\n",
    "# None of this will not cause problems with `cell ids` assuming your versioning supports `cell ids`\n",
    "# (as UofT JupyterHub, UofT JupyterLab, an Google Colab will).\n"
   ]
  },
  {
   "cell_type": "code",
   "execution_count": null,
   "id": "856e7b8c",
   "metadata": {},
   "outputs": [],
   "source": [
    "# Cell for scratch work"
   ]
  },
  {
   "cell_type": "markdown",
   "id": "1b2dc843",
   "metadata": {},
   "source": [
    "## Problem 1 Questions 9-10 (1 point)\n",
    "\n",
    "Solve for $\\hat \\beta$ in $\\hat y = \\hat \\beta X$ with the same methods in questions 2-6 above, again using the imported `inv`, `solve`, `solve_triangular`, `cholesky`, `qr`, and `svd` functions, but this time for `X` and `y` generated from the following code.\n",
    "\n",
    "```python\n",
    "np.random.seed(10); n,p = 100,10; noise,sigma = .0000001,1\n",
    "X = np.ones((n,p)) + stats.norm.rvs(size=(n,p))*noise\n",
    "X[:,0] = 1; y = np.ones((n,1))\n",
    "```\n",
    "\n",
    "9. (0.5 points) Which of the following best describes the numerical difference between the methods above?\n",
    "\n",
    "    1. Numeric differences are meaningfully different for the `qr` and `svd` approaches compared to the methods based on `X.T@X`\n",
    "    2. Numeric differences are not meaningfully different for any of the methods compared to the multicollinearity/condition of `X` \n",
    "    3. Numeric differences are meaningfully different, with a worst to best numerical precision ranking of `inv`, `solve`, `cholesky`, `qr`, `svd`\n",
    "    4. Numeric differences are not meaningfully different because the condition number and ***variance inflation factors*** of `X` are not very large\n",
    "\n",
    "\n",
    "10. (0.5 points) What's different about `X` from questions 9 and 10 compared to `X` from questions 2-8?\n",
    "\n",
    "    1. Their dimensions and use of intercept columns\n",
    "    2. They both have very high correlations but very different magnitude ***condition numbers***\n",
    "    3. They have different correlation magnitudes but similar magnitude ***condition numbers***\n",
    "    4. The ***condition number*** of the former is much larger than the latter despite having seemingly unconcerning correlations \n",
    "    \n",
    "***Hint:*** the hints from questions 2-6 above would be helpfuling for answer these questions"
   ]
  },
  {
   "cell_type": "code",
   "execution_count": null,
   "id": "e5cf7ab4",
   "metadata": {
    "deletable": false
   },
   "outputs": [],
   "source": [
    "# 1 point (0.5 points each) [format: `str` either \"A\" or \"B\" or \"C\" or \"D\" based on the choices above]\n",
    "p1q9 = #<\"A\"|\"B\"|\"C\"|\"D\"> \n",
    "p1q10 = #<\"A\"|\"B\"|\"C\"|\"D\"> \n",
    "# Uncomment the above and keep only either \"A\" or \"B\" or \"C\" or \"D\"\n",
    "\n",
    "# This cell will produce a runtime error until the variables `p1q9` and `p1q10` are assigned values"
   ]
  },
  {
   "cell_type": "code",
   "execution_count": null,
   "id": "7e7372fe",
   "metadata": {},
   "outputs": [],
   "source": [
    "# Cell for scratch work\n",
    "\n",
    "# You are welcome to add as many new cells into this notebook as you would like.\n",
    "# Just do not leave in a state that will produce a runtime errors when notebook cells are run sequentially.\n",
    "\n",
    "# Any cells included for scratch work that are no longer needed may be deleted so long as \n",
    "# - all the required functions are still defined and available when called\n",
    "# - no cells requiring variable assignments are deleted.\n",
    "\n",
    "# None of this will not cause problems with `cell ids` assuming your versioning supports `cell ids`\n",
    "# (as UofT JupyterHub, UofT JupyterLab, an Google Colab will).\n"
   ]
  },
  {
   "cell_type": "code",
   "execution_count": null,
   "id": "051946b4",
   "metadata": {},
   "outputs": [],
   "source": [
    "# Cell for scratch work"
   ]
  },
  {
   "cell_type": "markdown",
   "id": "16ed56dc",
   "metadata": {},
   "source": [
    "## Problem 1 Questions 11-14 (1 point)\n",
    "\n",
    "11. (0.25 points) What objective (optimization) function is question 2 concerned with? \n",
    "\n",
    "    1. The $L_2$ ***norm*** of the ***residuals*** $||(y-X\\hat \\beta)^T(y-X\\hat \\beta)||_2$\n",
    "    2. A ***quadratic function*** $\\frac{1}{2}\\beta^TX^TX\\hat \\beta - y^TX\\hat \\beta$ minimized at $\\hat \\beta$\n",
    "    3. A and B (which have the same optimization solutions)\n",
    "    4. Solving $X\\hat \\beta = y$\n",
    "\n",
    "\n",
    "12. (0.25 points) Assuming a ***full rank design matrix*** $X$, which of the following is a true statement?\n",
    "\n",
    "    1. ***Least squares*** is a ***nonlinear*** objective (optimization) function\n",
    "    2. The solution to the ***least squares*** problem is solved by a ***system of linear equations***\n",
    "    3. A and B (which are both true)\n",
    "    4. The $O(np^2)$ and $O(p^3)$ computations of this problem are preferable to $O(sp^2)$ ***iterative methods*** which require the $O(np^2)$ grammian computation\n",
    "\n",
    "\n",
    "13. (0.25 points) Which of the following is a true statement relative to ***iterative methods*** based on the ***grammian***?\n",
    "\n",
    "    1. Using the `inv`, `solve`, and `cholesky` methods also requires computing the ***grammian***\n",
    "    2. Using the `qr` and `svd` methods also requires computing the ***grammian*** \n",
    "    3. The `inv`, `solve`, and `cholesky` methods themselves are faster since they are $O(np^2)$\n",
    "    4. The `qr` and `svd` methods themselves are faster since they are $O(p^3)$\n",
    "    \n",
    "    \n",
    "14. (0.25 points) To avoid the ***grammian*** computation, the general ***nonsquare Gauss-Seidel*** (***coordinate descent***) strategy \n",
    "\n",
    "    ```python\n",
    "    # s < p is chosen\n",
    "    for(j in range(s)):\n",
    "        for(i in range(n)):\n",
    "            betahat[i%p] = q(X[i,:], y[i], betahat[:(i%p)], betahat[(1+(i%p)):])\n",
    "```\n",
    "\n",
    "    could be used. What is the ***Big-O computational complexity*** of the univariate `q` update function that would result in a ***Big-O computational complexity*** for this algorithm that is the same as regular ***Gauss-Seidel*** (including the ***grammian*** computation, which it requires)? \n",
    "\n",
    "    1. $O(p^2/s)$\n",
    "    2. $O(p)$\n",
    "    3. $O(p^3/(ns))$\n",
    "    4. $O(p^2/n)$"
   ]
  },
  {
   "cell_type": "code",
   "execution_count": null,
   "id": "c1c9f515",
   "metadata": {
    "deletable": false
   },
   "outputs": [],
   "source": [
    "# 1 point (0.25 points each) [format: `str` either \"A\" or \"B\" or \"C\" or \"D\" based on the choices above]\n",
    "p1q11 = #<\"A\"|\"B\"|\"C\"|\"D\"> \n",
    "p1q12 = #<\"A\"|\"B\"|\"C\"|\"D\"> \n",
    "p1q13 = #<\"A\"|\"B\"|\"C\"|\"D\"> \n",
    "p1q14 = #<\"A\"|\"B\"|\"C\"|\"D\"> \n",
    "# Uncomment the above and keep only either \"A\" or \"B\" or \"C\" or \"D\"\n",
    "\n",
    "# This cell will produce a runtime error until the variables `p2q11` and `p2q12` are assigned values"
   ]
  },
  {
   "cell_type": "markdown",
   "id": "ca994284",
   "metadata": {},
   "source": [
    "# Problem 2 (5 points)\n",
    "\n",
    "Complete the ***gradient descent optimization algorithm*** below for \n",
    "- parameters $A_1, b_1, A_2,$ and $b_2$ of the model\n",
    "- $\\hat y = f_{A_1,b_1,A_2,b_2}(x) = \\big( (A_2(A_1 x + b_1)_+ + b_2)_+ \\big)$\n",
    "- minimizing the (loss function objective) function $||\\epsilon||_2 = ||y-f_{A_1,b_1,A_2,b_2}(x)||_2$\n",
    "\n",
    "where $(\\cdot)_+$ is the so-called ***ReLU activation function*** which sets all negative values within the object to $0$."
   ]
  },
  {
   "cell_type": "code",
   "execution_count": 421,
   "id": "0854e4c8",
   "metadata": {
    "deletable": false
   },
   "outputs": [],
   "source": [
    "import tensorflow as tf\n",
    "np.random.seed(3)\n",
    "alpha,K = 0.01,10\n",
    "d,q1,q2 = 3,2,3\n",
    "x = tf.constant(np.random.normal(size=(d,1)))\n",
    "y = tf.constant(np.random.normal(size=(d,1)))\n",
    "A1 = tf.Variable(np.random.normal(size=(q1,d)))\n",
    "b1 = tf.Variable(np.random.normal(size=(q1,1)))\n",
    "A2 = tf.Variable(np.random.normal(size=(q2,q1)))\n",
    "b2 = tf.Variable(np.random.normal(size=(q2,1)))\n",
    "\n",
    "arg1 = tf.TensorSpec(shape=x.shape, dtype=tf.float64)\n",
    "arg2 = tf.TensorSpec(shape=A1.shape, dtype=tf.float64)\n",
    "arg3 = tf.TensorSpec(shape=b1.shape, dtype=tf.float64)\n",
    "arg4 = tf.TensorSpec(shape=A2.shape, dtype=tf.float64)\n",
    "arg5 = tf.TensorSpec(shape=b2.shape, dtype=tf.float64)\n",
    "\n",
    "@tf.function(input_signature=(arg1,arg2,arg3,arg4,arg5,))\n",
    "def f(x0, A1, b1, A2, b2):\n",
    "    return None #<f as defined in the problem prompt> <- fix this\n",
    "\n",
    "@tf.function(input_signature=(arg1,arg1,))\n",
    "def loss(y, yhat):\n",
    "    return None #<L2 norm of epsilon> <- fix this\n",
    "\n",
    "# You are not meant to actually fit a model here,\n",
    "# only set up and run the correct code that could fit a model\n",
    "# and then run it for `K` steps\n",
    "# and then assign `p2q0 = loss(x, y, A1, b1, A2, b2)`\n",
    "# the final value of the `loss` function after the `K` steps finish\n",
    "for i in range(K):\n",
    "    # <complete `K` steps of gradient descent>\n",
    "    # <for the `tf.Variable` model parameters>\n",
    "    pass\n",
    "\n",
    "# 2 points [format: `(A1, b1, A2, b2)` with the results of the for loop above after it  \n",
    "#                    implements the gradient descent algorithm for `alpha,K = 0.01,10` ]\n",
    "p2q2 = #(A1, b1, A2, b2) # the `p2q2` variable name is correct -- it makes sense to assign this here\n",
    "# Uncomment the line above so the result of the gradient descent algorithm for `alpha,K = 0.01,10` is saved\n",
    "# This cell will produce a runtime error until `p2q2` variable is assigned a value"
   ]
  },
  {
   "cell_type": "markdown",
   "id": "a7a1d124",
   "metadata": {},
   "source": [
    "## Problem 2 question 0 (1 point)\n",
    "\n",
    "Your `f` function above will be tested for various inputs."
   ]
  },
  {
   "cell_type": "markdown",
   "id": "c7d9d709",
   "metadata": {},
   "source": [
    "## Problem 2 question 1 (1 point)\n",
    "\n",
    "Your `loss` function above will be tested for various inputs."
   ]
  },
  {
   "cell_type": "markdown",
   "id": "7fbedd3a",
   "metadata": {},
   "source": [
    "## Problem 2 question 2 (2 points)\n",
    "\n",
    "Your ***gradient descent*** algorithm above will be tested for various input."
   ]
  },
  {
   "cell_type": "markdown",
   "id": "469c396d",
   "metadata": {},
   "source": [
    "## Problem 2 question 3-4 (0.5 points)\n",
    "\n",
    "3. (0.25 points) Why is the algorithm coded in this problem different than ***nonlinear Gauss-Seidel***?\n",
    "\n",
    "    1. Because `f` is a linear function of `x`, not a nonlinear function of `x`\n",
    "    2. Because each parameter is not cyclically optimized given the value of the others\n",
    "    3. Because the algorithm coded in this problem is a ***coordinate descent*** algorithm\n",
    "    3. The algorithm coded in this problem is not different than ***nonlinear Gauss-Seidel***\n",
    "    \n",
    "    \n",
    "4. (0.25 points) If `alpha` was decreased towards zero, what other tuning parameter(s?) could be adjusted to compensate so that the algorithm maintained an approximately similar level of progress in the convergence?\n",
    "\n",
    "    1. `K` could be increased\n",
    "    2. `b1` and `b2` could be given smaller magnitudes\n",
    "    3. `A1` and `A2` could be given larger magnitudes\n",
    "    4. Choices 'A' and 'B' above"
   ]
  },
  {
   "cell_type": "code",
   "execution_count": null,
   "id": "323c58d3",
   "metadata": {
    "deletable": false
   },
   "outputs": [],
   "source": [
    "# 0.25 points each [format: `str` either \"A\" or \"B\" or \"C\" or \"D\" based on the choices above]\n",
    "p2q3 = #<\"A\"|\"B\"|\"C\"|\"D\"> \n",
    "p2q4 = #<\"A\"|\"B\"|\"C\"|\"D\"> \n",
    "# Uncomment the above and keep each only either \"A\" or \"B\" or \"C\" or \"D\"\n",
    "\n",
    "# This cell will produce a runtime error until the `p2q3` and `p2q3` variables are assigned values"
   ]
  },
  {
   "cell_type": "markdown",
   "id": "4a2568e8",
   "metadata": {},
   "source": [
    "## Problem 2 question 5 (0.5 points)\n",
    "\n",
    "3. (0.5 points) The function under consideration in this function is\n",
    "\n",
    "  $$\\hat y = f_{A_1,b_1,A_2,b_2}(x) = \\big( (A_2(A_1 x + b_1)_+ + b_2)_+ \\big)$$\n",
    "  \n",
    "  where $(\\cdot)_+$ is the so-called ***ReLU activation function*** which sets all negative values within the object to $0$.\n",
    "  \n",
    "  What is the problem with this as a function for $\\hat y$ predicting $y$? \n",
    "  \n",
    "  1. It is not a continuous function so it doesn't have derivatives everywhere\n",
    "  2. It is a nonlinear function so it should not be used to predict $y$\n",
    "  3. It can only produce positive $\\hat y$ predictions, so it would not work for regression with negative $y$ values \n",
    "  4. Nothing, this $\\hat y$ will be a reasonable predictor of $y$ as long is the function $f$ is sufficiently flexible"
   ]
  },
  {
   "cell_type": "code",
   "execution_count": null,
   "id": "544a171c",
   "metadata": {},
   "outputs": [],
   "source": [
    "# 0.5 points each [format: `str` either \"A\" or \"B\" or \"C\" or \"D\" based on the choices above]\n",
    "p2q5 = #<\"A\"|\"B\"|\"C\"|\"D\"> \n",
    "# Uncomment the above and keep each only either \"A\" or \"B\" or \"C\" or \"D\"\n",
    "\n",
    "# This cell will produce a runtime error until the `p2q5` variable has been assigned a value"
   ]
  }
 ],
 "metadata": {
  "celltoolbar": "Edit Metadata",
  "kernelspec": {
   "display_name": "Python 3 (ipykernel)",
   "language": "python",
   "name": "python3"
  },
  "language_info": {
   "codemirror_mode": {
    "name": "ipython",
    "version": 3
   },
   "file_extension": ".py",
   "mimetype": "text/x-python",
   "name": "python",
   "nbconvert_exporter": "python",
   "pygments_lexer": "ipython3",
   "version": "3.9.5"
  }
 },
 "nbformat": 4,
 "nbformat_minor": 5
}
